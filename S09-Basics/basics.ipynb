{
 "cells": [
  {
   "cell_type": "code",
   "execution_count": 3,
   "metadata": {},
   "outputs": [
    {
     "data": {
      "text/plain": [
       "[22.1, 23.4, 34.0, -99.9, 23.0]"
      ]
     },
     "execution_count": 3,
     "metadata": {},
     "output_type": "execute_result"
    }
   ],
   "source": [
    "temps = [221, 234, 340, -999, 230]\n",
    "new_temps = []\n",
    "for temp in temps:\n",
    "    new_temps.append(temp/10)\n",
    "new_temps"
   ]
  },
  {
   "cell_type": "code",
   "execution_count": 5,
   "metadata": {},
   "outputs": [
    {
     "name": "stdout",
     "output_type": "stream",
     "text": [
      "[22.1, 23.4, 34.0, -99.9, 23.0]\n"
     ]
    },
    {
     "data": {
      "text/plain": [
       "[22.1, 23.4, 34.0, 23.0]"
      ]
     },
     "execution_count": 5,
     "metadata": {},
     "output_type": "execute_result"
    }
   ],
   "source": [
    "temps = [221, 234, 340, -999, 230]\n",
    "new_temps = [temp/10 for temp in temps] # list comprehension\n",
    "print(new_temps)\n",
    "\n",
    "new_temps = [temp/10 for temp in temps if temp != -999]\n",
    "new_temps"
   ]
  },
  {
   "cell_type": "code",
   "execution_count": 10,
   "metadata": {},
   "outputs": [
    {
     "name": "stdout",
     "output_type": "stream",
     "text": [
      "[22.1, 23.4, 34.0, 23.0]\n"
     ]
    },
    {
     "data": {
      "text/plain": [
       "[22.1, 23.4, 34.0, 'no data', 23.0]"
      ]
     },
     "execution_count": 10,
     "metadata": {},
     "output_type": "execute_result"
    }
   ],
   "source": [
    "temps = [221, 234, 340, -999, 230, 'llsfj']\n",
    "new_temps = [temp/10 for temp in temps if temp != -999 and not isinstance(temp, str)]\n",
    "print(new_temps)\n",
    "\n",
    "temps = [221, 234, 340, -999, 230]\n",
    "new_temps = [temp/10 if temp != -999 else 'no data' for temp in temps]\n",
    "new_temps"
   ]
  },
  {
   "cell_type": "code",
   "execution_count": 11,
   "metadata": {},
   "outputs": [
    {
     "data": {
      "text/plain": [
       "6.6"
      ]
     },
     "execution_count": 11,
     "metadata": {},
     "output_type": "execute_result"
    }
   ],
   "source": [
    "l = ['2', '4.6']\n",
    "sum([float(n) for n in l])"
   ]
  },
  {
   "cell_type": "code",
   "execution_count": 13,
   "metadata": {},
   "outputs": [
    {
     "data": {
      "text/plain": [
       "['2lll', '4.6lll']"
      ]
     },
     "execution_count": 13,
     "metadata": {},
     "output_type": "execute_result"
    }
   ],
   "source": [
    "l = ['2', '4.6']\n",
    "[s + 'lll' for s in l]"
   ]
  },
  {
   "cell_type": "code",
   "execution_count": 15,
   "metadata": {},
   "outputs": [
    {
     "name": "stdout",
     "output_type": "stream",
     "text": [
      "-1\n",
      "-1\n"
     ]
    },
    {
     "data": {
      "text/plain": [
       "1"
      ]
     },
     "execution_count": 15,
     "metadata": {},
     "output_type": "execute_result"
    }
   ],
   "source": [
    "def dif(a, b=6):\n",
    "    return a - b\n",
    "print(dif(2, 3))\n",
    "print(dif(b=3, a=2))\n",
    "dif(7)"
   ]
  },
  {
   "cell_type": "code",
   "execution_count": 16,
   "metadata": {},
   "outputs": [
    {
     "name": "stdout",
     "output_type": "stream",
     "text": [
      "(1, 2, 3)\n"
     ]
    },
    {
     "data": {
      "text/plain": [
       "2.0"
      ]
     },
     "execution_count": 16,
     "metadata": {},
     "output_type": "execute_result"
    }
   ],
   "source": [
    "def mean(*args):\n",
    "    print(args)\n",
    "    return sum(args)/len(args)\n",
    "mean(1, 2, 3)"
   ]
  },
  {
   "cell_type": "code",
   "execution_count": 17,
   "metadata": {},
   "outputs": [
    {
     "name": "stdout",
     "output_type": "stream",
     "text": [
      "{'a': 1, 'b': 2, 'c': 3}\n"
     ]
    },
    {
     "data": {
      "text/plain": [
       "2.0"
      ]
     },
     "execution_count": 17,
     "metadata": {},
     "output_type": "execute_result"
    }
   ],
   "source": [
    "def mean(**kwargs):\n",
    "    print(kwargs)\n",
    "    return sum(kwargs.values())/len(kwargs.values())\n",
    "mean(a=1, b=2, c=3)"
   ]
  },
  {
   "cell_type": "code",
   "execution_count": 22,
   "metadata": {},
   "outputs": [],
   "source": [
    "def fun(a, b, c=3, *args, **kwargs):\n",
    "    print(a, b, c)\n",
    "    print(args)\n",
    "    print(kwargs)"
   ]
  },
  {
   "cell_type": "code",
   "execution_count": 24,
   "metadata": {},
   "outputs": [
    {
     "ename": "TypeError",
     "evalue": "fun() missing 1 required positional argument: 'b'",
     "output_type": "error",
     "traceback": [
      "\u001b[1;31m---------------------------------------------------------------------------\u001b[0m",
      "\u001b[1;31mTypeError\u001b[0m                                 Traceback (most recent call last)",
      "\u001b[1;32m<ipython-input-24-a0060b8a4c19>\u001b[0m in \u001b[0;36m<module>\u001b[1;34m\u001b[0m\n\u001b[1;32m----> 1\u001b[1;33m \u001b[0mfun\u001b[0m\u001b[1;33m(\u001b[0m\u001b[1;36m1\u001b[0m\u001b[1;33m)\u001b[0m\u001b[1;33m\u001b[0m\u001b[1;33m\u001b[0m\u001b[0m\n\u001b[0m",
      "\u001b[1;31mTypeError\u001b[0m: fun() missing 1 required positional argument: 'b'"
     ]
    }
   ],
   "source": [
    "fun(1)"
   ]
  },
  {
   "cell_type": "code",
   "execution_count": 26,
   "metadata": {},
   "outputs": [
    {
     "name": "stdout",
     "output_type": "stream",
     "text": [
      "1 2 3\n",
      "()\n",
      "{}\n"
     ]
    }
   ],
   "source": [
    "fun(1, 2)"
   ]
  },
  {
   "cell_type": "code",
   "execution_count": 28,
   "metadata": {},
   "outputs": [
    {
     "name": "stdout",
     "output_type": "stream",
     "text": [
      "1 2 4\n",
      "()\n",
      "{}\n"
     ]
    }
   ],
   "source": [
    "fun(1, 2, 4)"
   ]
  },
  {
   "cell_type": "code",
   "execution_count": 32,
   "metadata": {},
   "outputs": [
    {
     "name": "stdout",
     "output_type": "stream",
     "text": [
      "1 2 4\n",
      "(5,)\n",
      "{}\n"
     ]
    }
   ],
   "source": [
    "fun(1, 2, 4, 5)"
   ]
  },
  {
   "cell_type": "code",
   "execution_count": 35,
   "metadata": {},
   "outputs": [
    {
     "name": "stdout",
     "output_type": "stream",
     "text": [
      "1 2 3\n",
      "()\n",
      "{'d': 7}\n"
     ]
    }
   ],
   "source": [
    "fun(1, 2, d=7)"
   ]
  },
  {
   "cell_type": "code",
   "execution_count": 41,
   "metadata": {},
   "outputs": [
    {
     "name": "stdout",
     "output_type": "stream",
     "text": [
      "1 2 4\n",
      "(5, 6)\n",
      "{'d': 7, 'e': 8}\n"
     ]
    }
   ],
   "source": [
    "fun(1, 2, 4, 5, 6, d=7, e=8)"
   ]
  },
  {
   "cell_type": "code",
   "execution_count": 51,
   "metadata": {},
   "outputs": [
    {
     "name": "stdout",
     "output_type": "stream",
     "text": [
      "8\n",
      "5\n",
      "pear\n",
      "apple\n",
      "orange\n",
      "mandarin\n",
      "watermelon\n",
      "pomegranate\n"
     ]
    },
    {
     "data": {
      "text/plain": [
       "'pear\\napple\\norange\\nmandarin\\nwatermelon\\npomegranate'"
      ]
     },
     "execution_count": 51,
     "metadata": {},
     "output_type": "execute_result"
    }
   ],
   "source": [
    "myfile = open('files/fruits.txt')\n",
    "content = myfile.read()\n",
    "myfile.close()\n",
    "\n",
    "print(content.count('a'))\n",
    "print(content.count('\\n'))\n",
    "print(content)\n",
    "content"
   ]
  },
  {
   "cell_type": "code",
   "execution_count": 54,
   "metadata": {},
   "outputs": [
    {
     "name": "stdout",
     "output_type": "stream",
     "text": [
      "pear\n",
      "apple\n",
      "orange\n",
      "ma\n"
     ]
    },
    {
     "data": {
      "text/plain": [
       "'pear\\napple\\norange\\nma'"
      ]
     },
     "execution_count": 54,
     "metadata": {},
     "output_type": "execute_result"
    }
   ],
   "source": [
    "print(content[:20])\n",
    "content[:20]"
   ]
  },
  {
   "cell_type": "code",
   "execution_count": 55,
   "metadata": {},
   "outputs": [
    {
     "data": {
      "text/plain": [
       "'pear\\napple\\norange\\nmandarin\\nwatermelon\\npomegranate'"
      ]
     },
     "execution_count": 55,
     "metadata": {},
     "output_type": "execute_result"
    }
   ],
   "source": [
    "with open('files/fruits.txt') as myfile:\n",
    "    content = myfile.read()\n",
    "content"
   ]
  },
  {
   "cell_type": "code",
   "execution_count": 61,
   "metadata": {},
   "outputs": [
    {
     "name": "stdout",
     "output_type": "stream",
     "text": [
      "tomato\n",
      "onion\n",
      "cucumber\n",
      "garlic0tomato1tomato2\n"
     ]
    },
    {
     "data": {
      "text/plain": [
       "'tomato\\nonion\\ncucumber\\ngarlic0tomato1tomato2'"
      ]
     },
     "execution_count": 61,
     "metadata": {},
     "output_type": "execute_result"
    }
   ],
   "source": [
    "with open('files/vegetables.txt', 'w') as myfile:\n",
    "    myfile.write('tomato\\nonion\\ncucumber\\n')\n",
    "    myfile.write('garlic0')\n",
    "    \n",
    "with open('files/vegetables.txt', 'a') as myfile:\n",
    "    myfile.write('tomato1')\n",
    "\n",
    "with open('files/vegetables.txt', 'a+') as myfile:\n",
    "    myfile.write('tomato2')\n",
    "    myfile.seek(0)\n",
    "    content = myfile.read()\n",
    "print(content)\n",
    "content"
   ]
  },
  {
   "cell_type": "code",
   "execution_count": 65,
   "metadata": {},
   "outputs": [
    {
     "name": "stdout",
     "output_type": "stream",
     "text": [
      "0\n",
      "1\n",
      "2\n"
     ]
    }
   ],
   "source": [
    "import time\n",
    "i = 0\n",
    "while i < 3:\n",
    "    print(i)\n",
    "    i += 1\n",
    "    time.sleep(1)"
   ]
  },
  {
   "cell_type": "code",
   "execution_count": 3,
   "metadata": {},
   "outputs": [
    {
     "name": "stdout",
     "output_type": "stream",
     "text": [
      "('_abc', '_ast', '_bisect', '_blake2', '_codecs', '_codecs_cn', '_codecs_hk', '_codecs_iso2022', '_codecs_jp', '_codecs_kr', '_codecs_tw', '_collections', '_contextvars', '_csv', '_datetime', '_functools', '_heapq', '_imp', '_io', '_json', '_locale', '_lsprof', '_md5', '_multibytecodec', '_opcode', '_operator', '_pickle', '_random', '_sha1', '_sha256', '_sha3', '_sha512', '_signal', '_sre', '_stat', '_statistics', '_string', '_struct', '_symtable', '_thread', '_tracemalloc', '_warnings', '_weakref', '_winapi', '_xxsubinterpreters', 'array', 'atexit', 'audioop', 'binascii', 'builtins', 'cmath', 'errno', 'faulthandler', 'gc', 'itertools', 'marshal', 'math', 'mmap', 'msvcrt', 'nt', 'parser', 'sys', 'time', 'winreg', 'xxsubtype', 'zlib')\n",
      "c:\\users\\roobb\\appdata\\local\\programs\\python\\python38\n",
      "3.8.2 (tags/v3.8.2:7b3ab59, Feb 25 2020, 23:03:10) [MSC v.1916 64 bit (AMD64)]\n",
      "win32\n"
     ]
    },
    {
     "data": {
      "text/plain": [
       "['C:\\\\Users\\\\roobb\\\\GitHub\\\\Python_Mega_Course\\\\S09-Basics',\n",
       " 'c:\\\\users\\\\roobb\\\\appdata\\\\local\\\\programs\\\\python\\\\python38\\\\python38.zip',\n",
       " 'c:\\\\users\\\\roobb\\\\appdata\\\\local\\\\programs\\\\python\\\\python38\\\\DLLs',\n",
       " 'c:\\\\users\\\\roobb\\\\appdata\\\\local\\\\programs\\\\python\\\\python38\\\\lib',\n",
       " 'c:\\\\users\\\\roobb\\\\appdata\\\\local\\\\programs\\\\python\\\\python38',\n",
       " '',\n",
       " 'C:\\\\Users\\\\roobb\\\\AppData\\\\Roaming\\\\Python\\\\Python38\\\\site-packages',\n",
       " 'c:\\\\users\\\\roobb\\\\appdata\\\\local\\\\programs\\\\python\\\\python38\\\\lib\\\\site-packages',\n",
       " 'c:\\\\users\\\\roobb\\\\appdata\\\\local\\\\programs\\\\python\\\\python38\\\\lib\\\\site-packages\\\\win32',\n",
       " 'c:\\\\users\\\\roobb\\\\appdata\\\\local\\\\programs\\\\python\\\\python38\\\\lib\\\\site-packages\\\\win32\\\\lib',\n",
       " 'c:\\\\users\\\\roobb\\\\appdata\\\\local\\\\programs\\\\python\\\\python38\\\\lib\\\\site-packages\\\\Pythonwin',\n",
       " 'c:\\\\users\\\\roobb\\\\appdata\\\\local\\\\programs\\\\python\\\\python38\\\\lib\\\\site-packages\\\\IPython\\\\extensions',\n",
       " 'C:\\\\Users\\\\roobb\\\\.ipython']"
      ]
     },
     "execution_count": 3,
     "metadata": {},
     "output_type": "execute_result"
    }
   ],
   "source": [
    "import sys\n",
    "print(sys.builtin_module_names)\n",
    "print(sys.prefix)\n",
    "print(sys.version)\n",
    "print(sys.platform)\n",
    "sys.path"
   ]
  },
  {
   "cell_type": "code",
   "execution_count": 13,
   "metadata": {},
   "outputs": [
    {
     "name": "stdout",
     "output_type": "stream",
     "text": [
      "True\n",
      "True\n",
      "True\n",
      "True\n"
     ]
    },
    {
     "data": {
      "text/plain": [
       "'C:\\\\Users\\\\roobb\\\\GitHub\\\\Python_Mega_Course\\\\S09-Basics'"
      ]
     },
     "execution_count": 13,
     "metadata": {},
     "output_type": "execute_result"
    }
   ],
   "source": [
    "import os\n",
    "print(os.path.exists('files'))\n",
    "print(os.path.exists('files/fruits.txt'))\n",
    "print(os.path.exists('files\\\\fruits.txt'))\n",
    "print(os.path.exists(r'files\\fruits.txt'))\n",
    "os.getcwd()"
   ]
  },
  {
   "cell_type": "code",
   "execution_count": 19,
   "metadata": {},
   "outputs": [
    {
     "name": "stdout",
     "output_type": "stream",
     "text": [
      "    st1   st2\n",
      "0  23.3  22.1\n",
      "1  24.0  23.1\n",
      "2  22.1  20.2\n",
      "3  19.1  16.8\n",
      "st1    22.125\n",
      "st2    20.550\n",
      "dtype: float64\n",
      "22.125\n"
     ]
    },
    {
     "data": {
      "text/html": [
       "<div>\n",
       "<style scoped>\n",
       "    .dataframe tbody tr th:only-of-type {\n",
       "        vertical-align: middle;\n",
       "    }\n",
       "\n",
       "    .dataframe tbody tr th {\n",
       "        vertical-align: top;\n",
       "    }\n",
       "\n",
       "    .dataframe thead th {\n",
       "        text-align: right;\n",
       "    }\n",
       "</style>\n",
       "<table border=\"1\" class=\"dataframe\">\n",
       "  <thead>\n",
       "    <tr style=\"text-align: right;\">\n",
       "      <th></th>\n",
       "      <th>st1</th>\n",
       "      <th>st2</th>\n",
       "    </tr>\n",
       "  </thead>\n",
       "  <tbody>\n",
       "    <tr>\n",
       "      <th>0</th>\n",
       "      <td>23.3</td>\n",
       "      <td>22.1</td>\n",
       "    </tr>\n",
       "    <tr>\n",
       "      <th>1</th>\n",
       "      <td>24.0</td>\n",
       "      <td>23.1</td>\n",
       "    </tr>\n",
       "    <tr>\n",
       "      <th>2</th>\n",
       "      <td>22.1</td>\n",
       "      <td>20.2</td>\n",
       "    </tr>\n",
       "    <tr>\n",
       "      <th>3</th>\n",
       "      <td>19.1</td>\n",
       "      <td>16.8</td>\n",
       "    </tr>\n",
       "  </tbody>\n",
       "</table>\n",
       "</div>"
      ],
      "text/plain": [
       "    st1   st2\n",
       "0  23.3  22.1\n",
       "1  24.0  23.1\n",
       "2  22.1  20.2\n",
       "3  19.1  16.8"
      ]
     },
     "execution_count": 19,
     "metadata": {},
     "output_type": "execute_result"
    }
   ],
   "source": [
    "import os\n",
    "import pandas\n",
    "import time\n",
    "if os.path.exists('files/temps_today.csv'):\n",
    "    data = pandas.read_csv('files/temps_today.csv')\n",
    "else:\n",
    "    print('File not available')\n",
    "    time.sleep(3)\n",
    "print(data)\n",
    "print(data.mean())\n",
    "print(data.mean()['st1'])\n",
    "data"
   ]
  }
 ],
 "metadata": {
  "kernelspec": {
   "display_name": "Python 3",
   "language": "python",
   "name": "python3"
  },
  "language_info": {
   "codemirror_mode": {
    "name": "ipython",
    "version": 3
   },
   "file_extension": ".py",
   "mimetype": "text/x-python",
   "name": "python",
   "nbconvert_exporter": "python",
   "pygments_lexer": "ipython3",
   "version": "3.8.2"
  }
 },
 "nbformat": 4,
 "nbformat_minor": 4
}
